{
 "cells": [
  {
   "cell_type": "code",
   "execution_count": 22,
   "id": "16b6c6a2",
   "metadata": {},
   "outputs": [],
   "source": [
    "import torch\n",
    "import numpy as np\n",
    "from matplotlib import pyplot as plt\n",
    "from matplotlib import colors\n",
    "\n",
    "%matplotlib widget \n"
   ]
  },
  {
   "cell_type": "code",
   "execution_count": 23,
   "id": "f90da623",
   "metadata": {},
   "outputs": [],
   "source": [
    "import env"
   ]
  },
  {
   "cell_type": "markdown",
   "id": "cd06b25e",
   "metadata": {},
   "source": []
  },
  {
   "cell_type": "markdown",
   "id": "c1e2299b",
   "metadata": {},
   "source": [
    "Environment closely follows OpenAI gym API. Currently can not be invoked with ```gym.make(\"env_id\")```, though it should be easy to do."
   ]
  },
  {
   "cell_type": "code",
   "execution_count": 24,
   "id": "e5f4ae88",
   "metadata": {},
   "outputs": [],
   "source": [
    "checkers_env = env.Env()"
   ]
  },
  {
   "cell_type": "markdown",
   "id": "c0607319",
   "metadata": {},
   "source": [
    "A state is ```(5+NUMBER_OF_PIECES, BOARD_SIZE, BOARD_SIZE) ndarray```\n",
    "\n",
    "Where\n",
    "\n",
    "* ```state[0]``` — black pieces\n",
    "* ```state[1]``` — white pieces\n",
    "* ```state[2]``` — pieces ids\n",
    "* ```state[3]``` — current turn (blacks=1, whites=0)\n",
    "* ```state[4]``` — whether game in terminal state\n",
    "* ```state[5+i]``` — allowed moves for piece number i\n",
    "\n",
    "I should probably move allowed moves elsewhere but I have a lot of RAM to keep things unoptimized.\n"
   ]
  },
  {
   "cell_type": "code",
   "execution_count": 25,
   "id": "35ce0a62",
   "metadata": {},
   "outputs": [],
   "source": [
    "\n",
    "def show_state(state):\n",
    "    plt.imshow(state)\n",
    "    plt.show()\n",
    "\n",
    "def show_board(board):\n",
    "   cmap = colors.ListedColormap(['white', 'red'])\n",
    "   bounds=[0,0.5,18]\n",
    "   norm = colors.BoundaryNorm(bounds, cmap.N)\n",
    "   # plt.figure(figsize=(4,4))\n",
    "   plt.imshow(board, cmap=cmap, norm=norm, interpolation='none')\n",
    "   plt.xticks(np.arange(0.5,8.5), [])\n",
    "   plt.yticks(np.arange(0.5,8.5), [])\n",
    "\n",
    "   plt.grid()"
   ]
  },
  {
   "cell_type": "markdown",
   "id": "0872aa8c",
   "metadata": {},
   "source": [
    "Plots above: \n",
    "\n",
    "1. Piece number 2\n",
    "2. Possible moves for piece number 2"
   ]
  },
  {
   "cell_type": "code",
   "execution_count": 26,
   "id": "e70b96ec",
   "metadata": {},
   "outputs": [],
   "source": [
    "import monte_carlo_tree\n",
    "\n",
    "\n",
    "def random_play():\n",
    "    '''\n",
    "    Play a game using random tree strategy\n",
    "    '''\n",
    "        \n",
    "    tree = monte_carlo_tree.RandomPlayTree(checkers_env, 8)\n",
    "    \n",
    "    root_node = tree.root_node\n",
    "    terminal_node, reward = tree.simulate(root_node)\n",
    "    \n",
    "    return terminal_node, reward\n",
    "    \n",
    "\n",
    "def build_random_play_stats(n_games=1):\n",
    "    '''\n",
    "    Play a number of random games and display result\n",
    "    '''\n",
    "\n",
    "    black_wins = 0\n",
    "    white_wins = 0\n",
    "    draws = 0\n",
    "    moves = []\n",
    "    \n",
    "    for _ in range(n_games):\n",
    "        m, reward = random_play()\n",
    "        if reward > 0:\n",
    "            black_wins += 1\n",
    "        elif reward < 0:\n",
    "            white_wins += 1\n",
    "        elif reward == 0:\n",
    "            draws += 1\n",
    "       \n",
    "        moves.append(m)\n",
    "    \n",
    "    print(\"Blacks: \", black_wins, \"Whites: \", white_wins, \"Draws: \", draws, \"Moves mean:\", np.mean(moves))"
   ]
  },
  {
   "cell_type": "code",
   "execution_count": 27,
   "id": "21b08d0b",
   "metadata": {},
   "outputs": [],
   "source": [
    "import time\n",
    "np.random.seed(seed=int(time.time())) \n",
    "\n",
    "# terminal_node, reward = random_play()"
   ]
  },
  {
   "cell_type": "code",
   "execution_count": 28,
   "id": "d432f7ea",
   "metadata": {},
   "outputs": [],
   "source": [
    "# trajectory = terminal_node.unroll()"
   ]
  },
  {
   "cell_type": "code",
   "execution_count": 29,
   "id": "e1632568",
   "metadata": {},
   "outputs": [],
   "source": [
    "def do_the_flip(arr):\n",
    "    return arr\n",
    "    return np.flip(np.flip(np.flip(arr, 0), 0), 1)\n",
    "\n",
    "def show_trajectory_item(trajectory, index):\n",
    "    board_i = monte_carlo_tree.state_to_board(trajectory[index].original_state)\n",
    "    show_board(do_the_flip(board_i[0] + board_i[1]))"
   ]
  },
  {
   "cell_type": "code",
   "execution_count": 30,
   "id": "53d5c856",
   "metadata": {},
   "outputs": [],
   "source": [
    "# show_trajectory_item(trajectory[::-1], 0)"
   ]
  },
  {
   "cell_type": "code",
   "execution_count": 31,
   "id": "ddb1ae9d",
   "metadata": {},
   "outputs": [
    {
     "name": "stdout",
     "output_type": "stream",
     "text": [
      "0\n",
      "1\n",
      "2\n",
      "3\n",
      "4\n",
      "5\n",
      "6\n",
      "7\n",
      "8\n",
      "9\n"
     ]
    }
   ],
   "source": [
    "tree = monte_carlo_tree.RandomPlayTree(checkers_env, 8)\n",
    "\n",
    "final_node, reward = tree.simulate(tree.root_node)"
   ]
  },
  {
   "cell_type": "code",
   "execution_count": 32,
   "id": "1ab1107b",
   "metadata": {},
   "outputs": [],
   "source": [
    "trajectory = list(final_node.unroll()[::-1])"
   ]
  },
  {
   "cell_type": "code",
   "execution_count": 33,
   "id": "5db1355d",
   "metadata": {},
   "outputs": [
    {
     "data": {
      "application/vnd.jupyter.widget-view+json": {
       "model_id": "381f5db9180c4296a8dee850b2bd6de7",
       "version_major": 2,
       "version_minor": 0
      },
      "image/png": "[encoded data removed]",
      "text/html": [
       "\n",
       "            <div style=\"display: inline-block;\">\n",
       "                <div class=\"jupyter-widgets widget-label\" style=\"text-align: center;\">\n",
       "                    Figure\n",
       "                </div>\n",
       "                <img src='data:image/png;base64,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' width=640.0/>\n",
       "            </div>\n",
       "        "
      ],
      "text/plain": [
       "Canvas(toolbar=Toolbar(toolitems=[('Home', 'Reset original view', 'home', 'home'), ('Back', 'Back to previous …"
      ]
     },
     "metadata": {},
     "output_type": "display_data"
    }
   ],
   "source": [
    "%matplotlib widget \n",
    "\n",
    "def state_to_board(state):\n",
    "    return np.flip(state[0] + state[1], 0)\n",
    "\n",
    "def move_delta(trajectory, index):\n",
    "    current = trajectory[index]\n",
    "    previous = trajectory[index-1]\n",
    "\n",
    "    return current- previous\n",
    "\n",
    "state = trajectory[-1].state\n",
    "\n",
    "show_board(np.flip(state[0] + state[1], 0))"
   ]
  },
  {
   "cell_type": "code",
   "execution_count": 34,
   "id": "9ab9f1a3",
   "metadata": {},
   "outputs": [
    {
     "name": "stdout",
     "output_type": "stream",
     "text": [
      "(2, 5, 1, 4)\n",
      "White\n",
      "[{'color': 'White', 'y': 5, 'x': 0, 'id': 0}, {'color': 'White', 'y': 6, 'x': 0, 'id': 1}, {'color': 'White', 'y': 7, 'x': 0, 'id': 2}, {'color': 'White', 'y': 5, 'x': 1, 'id': 3}, {'color': 'White', 'y': 6, 'x': 1, 'id': 4}, {'color': 'White', 'y': 7, 'x': 1, 'id': 5}, {'color': 'White', 'y': 5, 'x': 2, 'id': 6}, {'color': 'White', 'y': 6, 'x': 2, 'id': 7}, {'color': 'White', 'y': 7, 'x': 2, 'id': 8}, {'color': 'Black', 'y': 0, 'x': 5, 'id': 9}, {'color': 'Black', 'y': 1, 'x': 5, 'id': 10}, {'color': 'Black', 'y': 2, 'x': 5, 'id': 11}, {'color': 'Black', 'y': 0, 'x': 6, 'id': 12}, {'color': 'Black', 'y': 1, 'x': 6, 'id': 13}, {'color': 'Black', 'y': 2, 'x': 6, 'id': 14}, {'color': 'Black', 'y': 0, 'x': 7, 'id': 15}, {'color': 'Black', 'y': 1, 'x': 7, 'id': 16}, {'color': 'Black', 'y': 2, 'x': 7, 'id': 17}]\n",
      "[[3, 6], [3, 7]]\n"
     ]
    }
   ],
   "source": [
    "print(trajectory[1].move)\n",
    "print(trajectory[1].original_state['turn']['color'])\n",
    "print(trajectory[1].original_state['pieces'])\n",
    "print(trajectory[1].original_state['moveset'][8])"
   ]
  },
  {
   "cell_type": "code",
   "execution_count": null,
   "id": "a906167d",
   "metadata": {},
   "outputs": [],
   "source": []
  }
 ],
 "metadata": {
  "kernelspec": {
   "display_name": "Python 3 (ipykernel)",
   "language": "python",
   "name": "python3"
  },
  "language_info": {
   "codemirror_mode": {
    "name": "ipython",
    "version": 3
   },
   "file_extension": ".py",
   "mimetype": "text/x-python",
   "name": "python",
   "nbconvert_exporter": "python",
   "pygments_lexer": "ipython3",
   "version": "3.9.7"
  }
 },
 "nbformat": 4,
 "nbformat_minor": 5
}
