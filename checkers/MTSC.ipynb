{
 "cells": [
  {
   "cell_type": "code",
   "execution_count": 1,
   "id": "16b6c6a2",
   "metadata": {},
   "outputs": [],
   "source": [
    "import gym\n",
    "import torch\n",
    "import numpy as np"
   ]
  },
  {
   "cell_type": "code",
   "execution_count": 2,
   "id": "f90da623",
   "metadata": {},
   "outputs": [],
   "source": [
    "import env"
   ]
  },
  {
   "cell_type": "markdown",
   "id": "cd06b25e",
   "metadata": {},
   "source": []
  },
  {
   "cell_type": "markdown",
   "id": "c1e2299b",
   "metadata": {},
   "source": [
    "Environment closely follows OpenAI gym API. Currently can not be invoked with ```gym.make(\"env_id\")```, though it should be easy to do."
   ]
  },
  {
   "cell_type": "code",
   "execution_count": 3,
   "id": "e5f4ae88",
   "metadata": {},
   "outputs": [],
   "source": [
    "checkers_env = env.Env()"
   ]
  },
  {
   "cell_type": "markdown",
   "id": "c0607319",
   "metadata": {},
   "source": [
    "A state is ```(5+NUMBER_OF_PIECES, BOARD_SIZE, BOARD_SIZE) ndarray```\n",
    "\n",
    "Where\n",
    "\n",
    "* ```state[0]``` — black pieces\n",
    "* ```state[1]``` — white pieces\n",
    "* ```state[2]``` — pieces ids\n",
    "* ```state[3]``` — current turn (blacks=1, whites=0)\n",
    "* ```state[4]``` — whether game in terminal state\n",
    "* ```state[5+i]``` — allowed moves for piece number i\n",
    "\n",
    "I should probably move allowed moves elsewhere but I have a lot of RAM to keep things unoptimized.\n"
   ]
  },
  {
   "cell_type": "code",
   "execution_count": 4,
   "id": "35ce0a62",
   "metadata": {},
   "outputs": [],
   "source": [
    "from matplotlib import pyplot as plt\n",
    "from matplotlib import colors\n",
    "\n",
    "%matplotlib widget \n",
    "\n",
    "def show_state(state):\n",
    "    plt.imshow(state)\n",
    "    plt.show()\n",
    "\n",
    "def show_board(board):\n",
    "   cmap = colors.ListedColormap(['white', 'red'])\n",
    "   bounds=[0,0.5,18]\n",
    "   norm = colors.BoundaryNorm(bounds, cmap.N)\n",
    "   # plt.figure(figsize=(4,4))\n",
    "   plt.matshow(board, cmap=cmap, norm=norm, interpolation='none')\n",
    "   plt.xticks(np.arange(0.5,8.5), [])\n",
    "   plt.yticks(np.arange(0.5,8.5), [])\n",
    "\n",
    "   plt.grid()\n",
    "\n",
    "def show_piece_and_moves(state, piece_id):\n",
    "   show_board(state[2]==piece_id)\n",
    "   show_board(state[5+piece_id])"
   ]
  },
  {
   "cell_type": "markdown",
   "id": "0872aa8c",
   "metadata": {},
   "source": [
    "Plots above: \n",
    "\n",
    "1. Piece number 2\n",
    "2. Possible moves for piece number 2"
   ]
  },
  {
   "cell_type": "code",
   "execution_count": 5,
   "id": "e70b96ec",
   "metadata": {},
   "outputs": [],
   "source": [
    "import monte_carlo_tree\n",
    "\n",
    "\n",
    "'''\n",
    "Play a game using random tree strategy\n",
    "'''\n",
    "def random_play():\n",
    "    \n",
    "    tree = monte_carlo_tree.RandomPlayTree(checkers_env, 8)\n",
    "    \n",
    "    root_node = tree.root_node\n",
    "    terminal_node, reward = tree.simulate(root_node)\n",
    "    \n",
    "    return terminal_node.depth(), reward\n",
    "    \n",
    "'''\n",
    "Play a number of random games and display result\n",
    "'''\n",
    "def build_random_play_stats(n_games=1000):\n",
    "    \n",
    "    black_wins = 0\n",
    "    white_wins = 0\n",
    "    draws = 0\n",
    "    moves = []\n",
    "    \n",
    "    for _ in range(n_games):\n",
    "        m, reward = random_play()\n",
    "        if reward > 0:\n",
    "            black_wins += 1\n",
    "        elif reward < 0:\n",
    "            white_wins += 1\n",
    "        elif reward == 0:\n",
    "            draws += 1\n",
    "       \n",
    "        moves.append(m)\n",
    "    \n",
    "    print(\"Blacks: \", black_wins, \"Whites: \", white_wins, \"Draws: \", draws, \"Moves mean:\", np.mean(moves))"
   ]
  },
  {
   "cell_type": "code",
   "execution_count": 6,
   "id": "21b08d0b",
   "metadata": {},
   "outputs": [
    {
     "name": "stdout",
     "output_type": "stream",
     "text": [
      "Blacks:  0 Whites:  0 Draws:  1000 Moves mean: 1065.927\n"
     ]
    }
   ],
   "source": [
    "build_random_play_stats()"
   ]
  },
  {
   "cell_type": "code",
   "execution_count": null,
   "id": "98f87236",
   "metadata": {},
   "outputs": [],
   "source": []
  }
 ],
 "metadata": {
  "kernelspec": {
   "display_name": "Python 3 (ipykernel)",
   "language": "python",
   "name": "python3"
  },
  "language_info": {
   "codemirror_mode": {
    "name": "ipython",
    "version": 3
   },
   "file_extension": ".py",
   "mimetype": "text/x-python",
   "name": "python",
   "nbconvert_exporter": "python",
   "pygments_lexer": "ipython3",
   "version": "3.9.7"
  }
 },
 "nbformat": 4,
 "nbformat_minor": 5
}
