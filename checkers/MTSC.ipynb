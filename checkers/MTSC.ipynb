{
 "cells": [
  {
   "cell_type": "code",
   "execution_count": null,
   "id": "16b6c6a2",
   "metadata": {},
   "outputs": [],
   "source": [
    "import torch\n",
    "import numpy as np\n",
    "from matplotlib import pyplot as plt\n",
    "from matplotlib import colors\n",
    "\n",
    "%matplotlib widget "
   ]
  },
  {
   "cell_type": "markdown",
   "id": "c1e2299b",
   "metadata": {},
   "source": [
    "Environment closely follows OpenAI gym API. Currently can not be invoked with ```gym.make(\"env_id\")```, though it should be easy to do."
   ]
  },
  {
   "cell_type": "code",
   "execution_count": null,
   "id": "e5f4ae88",
   "metadata": {},
   "outputs": [],
   "source": [
    "import env\n",
    "checkers_env = env.Env()"
   ]
  },
  {
   "cell_type": "markdown",
   "id": "c0607319",
   "metadata": {},
   "source": [
    "A state is ```(5+NUMBER_OF_PIECES, BOARD_SIZE, BOARD_SIZE) ndarray```\n",
    "\n",
    "Where\n",
    "\n",
    "* ```state[0]``` — black pieces\n",
    "* ```state[1]``` — white pieces\n",
    "* ```state[2]``` — pieces ids\n",
    "* ```state[3]``` — current turn (blacks=1, whites=0)\n",
    "* ```state[4]``` — whether game in terminal state\n",
    "* ```state[5+i]``` — allowed moves for piece number i\n",
    "\n",
    "I should probably move allowed moves elsewhere but I have a lot of RAM to keep things unoptimized.\n"
   ]
  },
  {
   "cell_type": "code",
   "execution_count": null,
   "id": "35ce0a62",
   "metadata": {},
   "outputs": [],
   "source": [
    "\"\"\" Various plotting helper methods \"\"\"\n",
    "\n",
    "def show_state(state):\n",
    "    plt.imshow(state)\n",
    "    plt.show()\n",
    "\n",
    "def show_board(board):\n",
    "   cmap = colors.ListedColormap(['white', 'red'])\n",
    "   bounds=[0,0.5,18]\n",
    "   norm = colors.BoundaryNorm(bounds, cmap.N)\n",
    "   # plt.figure(figsize=(4,4))\n",
    "   plt.imshow(board, cmap=cmap, norm=norm, interpolation='none')\n",
    "   plt.xticks(np.arange(0.5,8.5), [])\n",
    "   plt.yticks(np.arange(0.5,8.5), [])\n",
    "\n",
    "   plt.grid()\n",
    "\n",
    "def do_the_flip(arr):\n",
    "    return np.flip(np.flip(np.flip(arr, 0), 0), 1)\n",
    "\n",
    "def show_trajectory_item(trajectory, index):\n",
    "    board_i = monte_carlo_tree.state_to_board(trajectory[index].original_state)\n",
    "    show_board(do_the_flip(board_i[0] + board_i[1]))"
   ]
  },
  {
   "cell_type": "markdown",
   "id": "2e7a7605",
   "metadata": {},
   "source": [
    "## Random Play Tree\n",
    "\n",
    "This is very basic algorithm that plays the game by making random moves. Sometimes it reaches the end goal, but overall it supper inneficient."
   ]
  },
  {
   "cell_type": "code",
   "execution_count": null,
   "id": "49b968af",
   "metadata": {},
   "outputs": [],
   "source": [
    "import monte_carlo_tree\n",
    "\n",
    "\n",
    "def random_play():\n",
    "    '''\n",
    "    Play a game using random tree strategy\n",
    "    '''\n",
    "        \n",
    "    tree = monte_carlo_tree.RandomPlayTree(checkers_env, 8)\n",
    "    \n",
    "    root_node = tree.root_node\n",
    "    return tree.simulate(root_node)\n",
    "    \n",
    "\n",
    "def build_stats(playfunc, n_games=100):\n",
    "    '''\n",
    "    Play a number of random games and display result\n",
    "    '''\n",
    "\n",
    "    black_wins = 0\n",
    "    white_wins = 0\n",
    "    draws = 0\n",
    "    moves = []\n",
    "    \n",
    "    for _ in range(n_games):\n",
    "        m = playfunc()\n",
    "        if m.value > 0:\n",
    "            black_wins += 1\n",
    "        elif m.value < 0:\n",
    "            white_wins += 1\n",
    "        elif m.value == 0:\n",
    "            draws += 1\n",
    "       \n",
    "        moves.append(m.depth())\n",
    "    \n",
    "    print(\"Blacks: \", black_wins, \"Whites: \", white_wins, \"Draws: \", draws, \"Moves mean:\", np.mean(moves))"
   ]
  },
  {
   "cell_type": "code",
   "execution_count": null,
   "id": "5a9e4494",
   "metadata": {},
   "outputs": [],
   "source": [
    "build_stats(random_play, 10)"
   ]
  },
  {
   "cell_type": "markdown",
   "id": "c76b7c38",
   "metadata": {},
   "source": [
    "## Monte Carlo Search Tree"
   ]
  },
  {
   "cell_type": "code",
   "execution_count": null,
   "id": "613a5d00",
   "metadata": {},
   "outputs": [],
   "source": [
    "from monte_carlo_tree import MonteCarloPlayTree\n",
    "\n",
    "\n",
    "def mtsc_play():\n",
    "    '''\n",
    "    Play a game using MonteCarloSearchTree\n",
    "    '''\n",
    "\n",
    "    mcst = MonteCarloPlayTree(checkers_env, 8)\n",
    "    \n",
    "    root_node = mcst.root_node\n",
    "    terminal_node = mcst.simulate(root_node)\n",
    "    \n",
    "    return terminal_node\n"
   ]
  },
  {
   "cell_type": "code",
   "execution_count": null,
   "id": "0c6b5f4a",
   "metadata": {},
   "outputs": [],
   "source": [
    "build_stats(mtsc_play, 10)"
   ]
  },
  {
   "cell_type": "markdown",
   "id": "14d6bc35",
   "metadata": {},
   "source": [
    "## Guided Tree Search"
   ]
  },
  {
   "cell_type": "code",
   "execution_count": null,
   "id": "7b5d8fc0",
   "metadata": {},
   "outputs": [],
   "source": [
    "import torch\n",
    "import torch.nn as nn\n",
    "import torch.nn.functional as F\n",
    "\n",
    "BOARD_SIZE = 8\n",
    "\n",
    "device = torch.device(\"cuda:0\" if torch.cuda.is_available() else \"cpu\")\n",
    "\n",
    "class ActorCritic(nn.Module):\n",
    "\n",
    "    def __init__(self, board_size=BOARD_SIZE):\n",
    "        super(ActorCritic, self).__init__()\n",
    "        \n",
    "        self.board_size = BOARD_SIZE\n",
    "        self.fc = nn.Linear(self.board_size**2, 256)\n",
    "\n",
    "        # Policy head\n",
    "        self.fc_action1 = nn.Linear(256, 128)\n",
    "        self.fc_action2 = nn.Linear(128, self.board_size**4)\n",
    "        \n",
    "        # Critic head\n",
    "        self.fc_value1 = nn.Linear(256, 128)\n",
    "        self.fc_value2 = nn.Linear(128, 1)\n",
    "        \n",
    "    def forward(self, x, moves):\n",
    "        \n",
    "        y = x.view(-1, self.board_size**2)\n",
    "        y = F.relu(self.fc(y))\n",
    "        \n",
    "        # Actor head\n",
    "        a = F.relu(self.fc_action1(y))\n",
    "        a = self.fc_action2(a)\n",
    "        \n",
    "        # availability of moves\n",
    "        avail = moves.view(-1, self.board_size**4) \n",
    "\n",
    "        # locations where actions are not possible, we set the prob to zero\n",
    "        maxa = torch.max(a)\n",
    "        # subtract off max for numerical stability (avoids blowing up at infinity)\n",
    "        exp = avail*torch.exp(a-maxa)\n",
    "        prob = (exp/torch.sum(exp))\n",
    "        \n",
    "        prob = prob.view(-1, BOARD_SIZE,BOARD_SIZE,BOARD_SIZE,BOARD_SIZE)\n",
    "        \n",
    "        # Critic head\n",
    "        value = torch.relu(self.fc_value1(y))\n",
    "        value = torch.tanh(self.fc_value2(value))\n",
    "        value = value.view(-1, 1)\n",
    "\n",
    "        return prob, value\n",
    "\n",
    "actor_critic_network = ActorCritic().to(device)"
   ]
  },
  {
   "cell_type": "code",
   "execution_count": null,
   "id": "51e1dc0b",
   "metadata": {},
   "outputs": [],
   "source": [
    "tree = monte_carlo_tree.GuidedMonteCarloPlayTree(checkers_env, BOARD_SIZE, actor_critic_network, device)"
   ]
  },
  {
   "cell_type": "code",
   "execution_count": null,
   "id": "b03dd733",
   "metadata": {},
   "outputs": [],
   "source": [
    "tree.train(10)"
   ]
  },
  {
   "cell_type": "code",
   "execution_count": null,
   "id": "878ae2a1",
   "metadata": {},
   "outputs": [],
   "source": [
    "torch.save(actor_critic_network.state_dict(), \"./../assets/actor_critic.pt\")"
   ]
  }
 ],
 "metadata": {
  "kernelspec": {
   "display_name": "Python 3 (ipykernel)",
   "language": "python",
   "name": "python3"
  },
  "language_info": {
   "codemirror_mode": {
    "name": "ipython",
    "version": 3
   },
   "file_extension": ".py",
   "mimetype": "text/x-python",
   "name": "python",
   "nbconvert_exporter": "python",
   "pygments_lexer": "ipython3",
   "version": "3.9.7"
  }
 },
 "nbformat": 4,
 "nbformat_minor": 5
}
