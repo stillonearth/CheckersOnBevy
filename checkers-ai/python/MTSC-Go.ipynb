{
 "cells": [
  {
   "cell_type": "code",
   "execution_count": 1,
   "id": "16b6c6a2",
   "metadata": {},
   "outputs": [],
   "source": [
    "import torch\n",
    "import numpy as np"
   ]
  },
  {
   "cell_type": "code",
   "execution_count": 2,
   "id": "36945892",
   "metadata": {},
   "outputs": [],
   "source": [
    "BOARD_SIZE = 8"
   ]
  },
  {
   "cell_type": "markdown",
   "id": "c1e2299b",
   "metadata": {},
   "source": [
    "Environment closely follows OpenAI gym API. Currently can not be invoked with ```gym.make(\"env_id\")```, though it should be easy to do."
   ]
  },
  {
   "cell_type": "code",
   "execution_count": 3,
   "id": "e5f4ae88",
   "metadata": {},
   "outputs": [],
   "source": [
    "import gym\n",
    "import gym_go\n",
    "\n",
    "env = gym.make('gym_go:go-v0', size=BOARD_SIZE, komi=0, reward_method='real')"
   ]
  },
  {
   "cell_type": "code",
   "execution_count": 4,
   "id": "125c716d",
   "metadata": {},
   "outputs": [],
   "source": [
    "import monte_carlo_tree\n",
    "\n",
    "\n",
    "class GoNode(monte_carlo_tree.Node):\n",
    "    \"\"\"Go Game Tree Node\"\"\"\n",
    "\n",
    "    def prepare_state(self, player=None):\n",
    "        \"\"\"\n",
    "        Prepare game state X from perspective of current player\n",
    "        [\n",
    "            [ 1 -1 -1 ]\n",
    "            [ 1  0  0 ]\n",
    "            [ 0  0 -1 ]\n",
    "        ]\n",
    "\n",
    "        \n",
    "        Where  \n",
    "            1:  current player\n",
    "            -1: opposing player\n",
    "            \n",
    "        \"\"\"\n",
    "\n",
    "        if player == None:\n",
    "            player = self.current_player()\n",
    "\n",
    "        # take advantage of game symmetry        \n",
    "        state = self.blacks() - self.whites() if player == 1 else self.whites() - self.blacks()\n",
    "\n",
    "        return state\n",
    "\n",
    "    def whites(self):\n",
    "        \"\"\"White pieces on board\"\"\"\n",
    "        return self.state[0]\n",
    "    \n",
    "    def blacks(self):\n",
    "        \"\"\"Black pieces on board\"\"\"\n",
    "        return self.state[1]\n",
    "\n",
    "    def current_player(self):\n",
    "        return 1 if self.state[2, 0, 0] == 1 else -1\n",
    "    \n",
    "    def possible_actions(self, player=None, raw=False):\n",
    "        \"\"\"List of possible next actions\"\"\"\n",
    "        actions = (self.blacks() + self.whites()) + self.state[3]\n",
    "        return np.argwhere(actions==0).tolist()\n",
    "\n",
    "    def prepare_action(self, action):\n",
    "        return action\n",
    "\n",
    "    def evaluate(self, env):\n",
    "        return env.winning()"
   ]
  },
  {
   "cell_type": "markdown",
   "id": "2e7a7605",
   "metadata": {},
   "source": [
    "## Random Play Tree\n",
    "\n",
    "This is very basic algorithm that plays the game by making random moves. Sometimes it reaches the end goal, but overall it supper inneficient."
   ]
  },
  {
   "cell_type": "code",
   "execution_count": 5,
   "id": "49b968af",
   "metadata": {},
   "outputs": [],
   "source": [
    "rt = monte_carlo_tree.RandomPlayTree(env, GoNode, BOARD_SIZE)\n",
    "\n",
    "\n",
    "def random_play():\n",
    "    '''\n",
    "    Play a game using random tree strategy\n",
    "    '''\n",
    "    return rt.simulate(rt.root_node)\n",
    "    \n",
    "\n",
    "def build_stats(playfunc, n_games=100):\n",
    "    '''\n",
    "    Play a number of random games and display result\n",
    "    '''\n",
    "\n",
    "    black_wins = 0\n",
    "    white_wins = 0\n",
    "    draws = 0\n",
    "    moves = []\n",
    "    \n",
    "    for _ in range(n_games):\n",
    "        m = playfunc()\n",
    "\n",
    "        reward = env.winning()\n",
    "\n",
    "        if reward > 0:\n",
    "            black_wins += 1\n",
    "        elif reward < 0:\n",
    "            white_wins += 1\n",
    "        elif reward == 0.0:\n",
    "            draws += 1\n",
    "       \n",
    "        moves.append(m.depth())\n",
    "    \n",
    "    print(\"Blacks: \", black_wins, \"Whites: \", white_wins, \"Draws: \", draws, \"Moves mean:\", np.mean(moves))"
   ]
  },
  {
   "cell_type": "code",
   "execution_count": 6,
   "id": "5a9e4494",
   "metadata": {},
   "outputs": [
    {
     "name": "stdout",
     "output_type": "stream",
     "text": [
      "Blacks:  53 Whites:  46 Draws:  1 Moves mean: 106.81\n"
     ]
    }
   ],
   "source": [
    "build_stats(random_play, 100)"
   ]
  },
  {
   "cell_type": "markdown",
   "id": "74ee835d",
   "metadata": {},
   "source": [
    "## Monte Carlo Search Tree"
   ]
  },
  {
   "cell_type": "code",
   "execution_count": 7,
   "id": "9965a9bb",
   "metadata": {},
   "outputs": [],
   "source": [
    "mcst = monte_carlo_tree.MonteCarloPlayTree(env, GoNode, BOARD_SIZE)\n",
    "\n",
    "def mtsc_play():\n",
    "    '''\n",
    "    Play a game using MonteCarloSearchTree\n",
    "    '''\n",
    "    \n",
    "    return mcst.simulate(mcst.root_node)"
   ]
  },
  {
   "cell_type": "code",
   "execution_count": 8,
   "id": "eeae88eb",
   "metadata": {},
   "outputs": [
    {
     "name": "stdout",
     "output_type": "stream",
     "text": [
      "Blacks:  56 Whites:  43 Draws:  1 Moves mean: 104.31\n"
     ]
    }
   ],
   "source": [
    "build_stats(mtsc_play, 100)"
   ]
  },
  {
   "cell_type": "markdown",
   "id": "246da071",
   "metadata": {},
   "source": [
    "## Alpha Zero"
   ]
  },
  {
   "cell_type": "code",
   "execution_count": 9,
   "id": "438b18bb",
   "metadata": {},
   "outputs": [],
   "source": [
    "import torch\n",
    "import torch.nn as nn\n",
    "import torch.nn.functional as F\n",
    "\n",
    "\n",
    "device = torch.device(\"cuda:0\" if torch.cuda.is_available() else \"cpu\")\n",
    "\n",
    "class ActorCritic(nn.Module):\n",
    "\n",
    "    def __init__(self, board_size=BOARD_SIZE):\n",
    "        super(ActorCritic, self).__init__()\n",
    "        \n",
    "        self.board_size = board_size\n",
    "        self.conv1 = nn.Conv2d(1, 64, kernel_size=3, padding=1)\n",
    "        self.conv2 = nn.Conv2d(64, 128, kernel_size=3, padding=1)\n",
    "        self.conv3 = nn.Conv2d(128, 128, kernel_size=3, padding=1)\n",
    "        self.conv4 = nn.Conv2d(128, 128, kernel_size=3, padding=1)\n",
    "        self.layer1 = nn.Linear(128, 256)\n",
    "        self.layer2 = nn.Linear(128, 1)\n",
    "        \n",
    "    def forward(self, x):\n",
    "\n",
    "        x = x.view(-1, self.board_size, self.board_size)\n",
    "        x = F.relu(self.conv1(x))\n",
    "        x = F.relu(self.conv2(x))\n",
    "        x = F.max_pool2d(x, 2)\n",
    "        x = F.relu(self.conv3(x))\n",
    "        x = F.max_pool2d(x, 2)\n",
    "        x = F.relu(self.conv4(x))\n",
    "        x = F.max_pool2d(x, 4)[:, 0, 0]\n",
    "        x = F.dropout(x, p=0.2, training=self.training)\n",
    "        a = self.layer1(x)\n",
    "        v = self.tanh(self.layer2(F.tanh(x)))\n",
    "        \n",
    "        y = x.view(-1, self.board_size**2)\n",
    "        y = F.relu(self.fc(y))\n",
    "        \n",
    "        # Actor head\n",
    "        a = F.relu(self.fc_action1(y))\n",
    "        a = self.fc_action2(a)\n",
    "        \n",
    "        # availability of moves\n",
    "        avail = (torch.abs(x)!=1).float()\n",
    "        avail = avail.view(-1, self.board_size**2) \n",
    "        \n",
    "        # locations where actions are not possible, we set the prob to zero\n",
    "        maxa = torch.max(a)\n",
    "        # subtract off max for numerical stability (avoids blowing up at infinity)\n",
    "        exp = avail*torch.exp(a-maxa)\n",
    "        prob = (exp/torch.sum(exp))\n",
    "        \n",
    "        prob = prob.view(-1, BOARD_SIZE,BOARD_SIZE)\n",
    "        \n",
    "        # Critic head\n",
    "        value = torch.relu(self.fc_value1(y))\n",
    "        value = torch.tanh(self.fc_value2(value))\n",
    "\n",
    "        return prob, value\n",
    "\n",
    "actor_critic_network = ActorCritic().to(device)"
   ]
  }
 ],
 "metadata": {
  "kernelspec": {
   "display_name": "Python 3 (ipykernel)",
   "language": "python",
   "name": "python3"
  },
  "language_info": {
   "codemirror_mode": {
    "name": "ipython",
    "version": 3
   },
   "file_extension": ".py",
   "mimetype": "text/x-python",
   "name": "python",
   "nbconvert_exporter": "python",
   "pygments_lexer": "ipython3",
   "version": "3.9.7"
  }
 },
 "nbformat": 4,
 "nbformat_minor": 5
}
